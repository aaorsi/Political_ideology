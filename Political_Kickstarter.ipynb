{
 "cells": [
  {
   "cell_type": "markdown",
   "metadata": {},
   "source": [
    "# Political ideology on Kickstarter \n",
    "\n",
    "\n"
   ]
  },
  {
   "cell_type": "code",
   "execution_count": null,
   "metadata": {},
   "outputs": [],
   "source": [
    "import docx2txt\n",
    "import matplotlib.pyplot as plt\n",
    "import numpy as np\n",
    "import pandas as pd\n",
    "import os\n",
    "import fasttext\n",
    "from keras.preprocessing import text"
   ]
  },
  {
   "cell_type": "code",
   "execution_count": null,
   "metadata": {},
   "outputs": [],
   "source": [
    "# This is the path to all kickstarter .docx files.\n",
    "Rootdir = '/Users/aaorsi/Dropbox/Amanda_y_Alvaro/PythonStuff_Political/1000_Kickstarter/' \n",
    "\n",
    "#Retrieve all text from the files\n",
    "\n",
    "entries = []\n",
    "names = []\n",
    "\n",
    "directory = os.fsencode(Rootdir)\n",
    "\n",
    "iff = 0\n",
    "for file in os.listdir(directory):\n",
    "    filename = os.fsdecode(file)\n",
    "    if filename.endswith(\".docx\"): \n",
    "        f_entry = docx2txt.process(\"%s/%s\"%(Rootdir,filename))\n",
    "        entries.append(text.text_to_word_sequence(f_entry, lower=True, split=' '))\n",
    "        names.append(os.path.splitext(os.path.basename(filename))[0])\n",
    "        print ('.', end='' if iff%100 != 0 else '\\n')\n",
    "        iff += 1\n"
   ]
  },
  {
   "cell_type": "code",
   "execution_count": null,
   "metadata": {},
   "outputs": [],
   "source": [
    "# Load training dataset\n",
    "\n",
    "# The following dataset was obtained from \n",
    "dset = 'forum_sample.csv'\n",
    "\n",
    "forum = pd.read_csv(dset)\n",
    "\n",
    "\n",
    "forum['userPolitics'] = forum['userPolitics'].replace(\n",
    "    \"<bound method SelectorList.extract of \\[<Selector xpath='div\\[3\\]\\/div\\[2\\]\\/a\\[2\\]\\/text\\(\\)' data='\",\n",
    "    '', regex=True)\n",
    "forum['userPolitics'] = forum['userPolitics'].str.extract(r\"data=' (\\w+)\\\\n\")\n",
    "\n",
    "#sLeftRight\n",
    "forum['sLeftRight'] = ''\n",
    "forum.loc[forum['userPolitics'].isin(['Conservative',\n",
    "            'Republican','Libertarian','Capitalist']), 'sLeftRight'] = 'Conservative'\n",
    "forum.loc[forum['userPolitics'].isin(['Liberal','Progressive','Socialist',\n",
    "            'Democratic','Anarchist','Green']), 'sLeftRight'] = 'Liberal' \n",
    "\n",
    "\n",
    "forum['postText'] = forum['postText'].str.strip()\n",
    "forum['postText'] = forum['postText'].replace('\\n','', regex=True)\n",
    "forum['postText'] = forum['postText'].replace('^,','', regex=True)\n",
    "forum['postText'] = forum['postText'].str.strip()\n",
    "forum['postText'] = forum['postText'].replace('^,','', regex=True)\n",
    "forum['postText'] = forum['postText'].replace('^\\s+','', regex=True)\n",
    "\n",
    "\n",
    "forum\n",
    "\n"
   ]
  },
  {
   "cell_type": "code",
   "execution_count": null,
   "metadata": {},
   "outputs": [],
   "source": [
    "print (forum['postText'][999])"
   ]
  },
  {
   "cell_type": "code",
   "execution_count": null,
   "metadata": {},
   "outputs": [],
   "source": [
    "model['ok']"
   ]
  }
 ],
 "metadata": {
  "kernelspec": {
   "display_name": "Python 3",
   "language": "python",
   "name": "python3"
  },
  "language_info": {
   "codemirror_mode": {
    "name": "ipython",
    "version": 3
   },
   "file_extension": ".py",
   "mimetype": "text/x-python",
   "name": "python",
   "nbconvert_exporter": "python",
   "pygments_lexer": "ipython3",
   "version": "3.7.3"
  }
 },
 "nbformat": 4,
 "nbformat_minor": 2
}
