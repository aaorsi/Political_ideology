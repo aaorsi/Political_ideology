{
 "cells": [
  {
   "cell_type": "markdown",
   "metadata": {},
   "source": [
    "# Political ideology on Kickstarter \n",
    "\n",
    "\n"
   ]
  },
  {
   "cell_type": "code",
   "execution_count": 1,
   "metadata": {},
   "outputs": [
    {
     "name": "stderr",
     "output_type": "stream",
     "text": [
      "Using TensorFlow backend.\n"
     ]
    }
   ],
   "source": [
    "import docx2txt\n",
    "import matplotlib.pyplot as plt\n",
    "import numpy as np\n",
    "import pandas as pd\n",
    "import os\n",
    "from keras.preprocessing import text\n",
    "\n",
    "from sklearn.feature_extraction.text import CountVectorizer\n",
    "from keras.preprocessing.text import Tokenizer\n",
    "from keras.preprocessing.sequence import pad_sequences\n",
    "from keras.models import Sequential\n",
    "from keras.layers import Dense, Embedding, LSTM, SpatialDropout1D\n",
    "from sklearn.model_selection import train_test_split\n",
    "from keras.utils.np_utils import to_categorical\n",
    "\n"
   ]
  },
  {
   "cell_type": "code",
   "execution_count": null,
   "metadata": {},
   "outputs": [],
   "source": []
  },
  {
   "cell_type": "code",
   "execution_count": 2,
   "metadata": {},
   "outputs": [
    {
     "name": "stdout",
     "output_type": "stream",
     "text": [
      "8231\n"
     ]
    }
   ],
   "source": [
    "# Load data from media articles\n",
    "import re\n",
    "\n",
    "\n",
    "salon_file = 'salon_clean.csv'\n",
    "townhall_file = 'townhall_clean.csv'\n",
    "\n",
    "salon_df = pd.read_csv(salon_file)\n",
    "townhall_df = pd.read_csv(townhall_file)\n",
    "\n",
    "salon_df['text'] = salon_df['text'].apply(lambda x: x.lower())\n",
    "salon_df['text'] = salon_df['text'].apply((lambda x: re.sub('[^a-zA-z0-9\\s]','',x)))\n",
    "\n",
    "townhall_df['text'] = townhall_df['text'].apply(lambda x: x.lower())\n",
    "townhall_df['text'] = townhall_df['text'].apply((lambda x: re.sub('[^a-zA-z0-9\\s]','',x)))\n",
    "\n",
    "data = []\n",
    "label = []\n",
    "\n",
    "for i in range(len(salon_df['url'])):\n",
    "    data.append(salon_df['text'][i])\n",
    "    label.append(0)\n",
    "    \n",
    "for i in range(len(townhall_df['url'])):\n",
    "    data.append(townhall_df['text'][i])\n",
    "    label.append(1)\n",
    "\n",
    "     \n",
    "max_fatures = 1000\n",
    "tokenizer = Tokenizer(num_words=max_fatures, split=' ')\n",
    "tokenizer.fit_on_texts(data)\n",
    "X = tokenizer.texts_to_sequences(data)\n",
    "X = pad_sequences(X)\n",
    "\n",
    "print (len(data))\n",
    "\n",
    "\n"
   ]
  },
  {
   "cell_type": "code",
   "execution_count": 3,
   "metadata": {},
   "outputs": [
    {
     "name": "stderr",
     "output_type": "stream",
     "text": [
      "WARNING: Logging before flag parsing goes to stderr.\n",
      "W0801 01:19:10.055402 4523951552 deprecation_wrapper.py:119] From /Users/aaorsi/.local/lib/python3.7/site-packages/keras/backend/tensorflow_backend.py:74: The name tf.get_default_graph is deprecated. Please use tf.compat.v1.get_default_graph instead.\n",
      "\n",
      "W0801 01:19:10.077553 4523951552 deprecation_wrapper.py:119] From /Users/aaorsi/.local/lib/python3.7/site-packages/keras/backend/tensorflow_backend.py:517: The name tf.placeholder is deprecated. Please use tf.compat.v1.placeholder instead.\n",
      "\n",
      "W0801 01:19:10.083245 4523951552 deprecation_wrapper.py:119] From /Users/aaorsi/.local/lib/python3.7/site-packages/keras/backend/tensorflow_backend.py:4138: The name tf.random_uniform is deprecated. Please use tf.random.uniform instead.\n",
      "\n",
      "W0801 01:19:10.108742 4523951552 deprecation_wrapper.py:119] From /Users/aaorsi/.local/lib/python3.7/site-packages/keras/backend/tensorflow_backend.py:133: The name tf.placeholder_with_default is deprecated. Please use tf.compat.v1.placeholder_with_default instead.\n",
      "\n",
      "W0801 01:19:10.125607 4523951552 deprecation.py:506] From /Users/aaorsi/.local/lib/python3.7/site-packages/keras/backend/tensorflow_backend.py:3445: calling dropout (from tensorflow.python.ops.nn_ops) with keep_prob is deprecated and will be removed in a future version.\n",
      "Instructions for updating:\n",
      "Please use `rate` instead of `keep_prob`. Rate should be set to `rate = 1 - keep_prob`.\n",
      "W0801 01:19:10.637394 4523951552 deprecation_wrapper.py:119] From /Users/aaorsi/.local/lib/python3.7/site-packages/keras/optimizers.py:790: The name tf.train.Optimizer is deprecated. Please use tf.compat.v1.train.Optimizer instead.\n",
      "\n",
      "W0801 01:19:10.670927 4523951552 deprecation_wrapper.py:119] From /Users/aaorsi/.local/lib/python3.7/site-packages/keras/backend/tensorflow_backend.py:3295: The name tf.log is deprecated. Please use tf.math.log instead.\n",
      "\n"
     ]
    },
    {
     "name": "stdout",
     "output_type": "stream",
     "text": [
      "_________________________________________________________________\n",
      "Layer (type)                 Output Shape              Param #   \n",
      "=================================================================\n",
      "embedding_1 (Embedding)      (None, 6962, 64)          64000     \n",
      "_________________________________________________________________\n",
      "spatial_dropout1d_1 (Spatial (None, 6962, 64)          0         \n",
      "_________________________________________________________________\n",
      "lstm_1 (LSTM)                (None, 98)                63896     \n",
      "_________________________________________________________________\n",
      "dense_1 (Dense)              (None, 2)                 198       \n",
      "=================================================================\n",
      "Total params: 128,094\n",
      "Trainable params: 128,094\n",
      "Non-trainable params: 0\n",
      "_________________________________________________________________\n",
      "None\n"
     ]
    }
   ],
   "source": [
    "embed_dim = 64\n",
    "lstm_out = 98\n",
    "\n",
    "model = Sequential()\n",
    "model.add(Embedding(max_fatures, embed_dim,input_length = X.shape[1]))\n",
    "model.add(SpatialDropout1D(0.4))\n",
    "model.add(LSTM(lstm_out, dropout=0.2, recurrent_dropout=0.2))\n",
    "model.add(Dense(2,activation='softmax'))\n",
    "model.compile(loss = 'categorical_crossentropy', optimizer='adam',metrics = ['accuracy'])\n",
    "print(model.summary())"
   ]
  },
  {
   "cell_type": "code",
   "execution_count": null,
   "metadata": {},
   "outputs": [
    {
     "name": "stdout",
     "output_type": "stream",
     "text": [
      "(5514, 6962) (5514, 2)\n",
      "(2717, 6962) (2717, 2)\n"
     ]
    },
    {
     "name": "stderr",
     "output_type": "stream",
     "text": [
      "W0801 01:19:11.159376 4523951552 deprecation.py:323] From /Users/aaorsi/.local/lib/python3.7/site-packages/tensorflow/python/ops/math_grad.py:1250: add_dispatch_support.<locals>.wrapper (from tensorflow.python.ops.array_ops) is deprecated and will be removed in a future version.\n",
      "Instructions for updating:\n",
      "Use tf.where in 2.0, which has the same broadcast rule as np.where\n"
     ]
    },
    {
     "name": "stdout",
     "output_type": "stream",
     "text": [
      "Epoch 1/5\n"
     ]
    }
   ],
   "source": [
    "Y = to_categorical(np.array(label))\n",
    "X_train, X_test, Y_train, Y_test = train_test_split(X,Y, test_size = 0.33, random_state = 42)\n",
    "print(X_train.shape,Y_train.shape)\n",
    "print(X_test.shape,Y_test.shape)\n",
    "\n",
    "batch_size = 32\n",
    "model.fit(X_train, Y_train, epochs = 5, batch_size=batch_size, verbose = 2)\n",
    "\n"
   ]
  },
  {
   "cell_type": "code",
   "execution_count": null,
   "metadata": {},
   "outputs": [],
   "source": [
    "# This is the path to all kickstarter .docx files.\n",
    "Rootdir = '/Users/aaorsi/Dropbox/Amanda_y_Alvaro/PythonStuff_Political/1000_Kickstarter/' \n",
    "\n",
    "#Retrieve all text from the files\n",
    "\n",
    "entries = []\n",
    "names = []\n",
    "\n",
    "directory = os.fsencode(Rootdir)\n",
    "\n",
    "iff = 0\n",
    "for file in os.listdir(directory):\n",
    "    filename = os.fsdecode(file)\n",
    "    if filename.endswith(\".docx\"): \n",
    "        f_entry = docx2txt.process(\"%s/%s\"%(Rootdir,filename))\n",
    "        entries.append(text.text_to_word_sequence(f_entry, lower=True, split=' '))\n",
    "        names.append(os.path.splitext(os.path.basename(filename))[0])\n",
    "        print ('.', end='' if iff%100 != 0 else '\\n')\n",
    "        iff += 1\n"
   ]
  },
  {
   "cell_type": "code",
   "execution_count": null,
   "metadata": {},
   "outputs": [],
   "source": [
    "# Load training dataset\n",
    "\n",
    "# The following dataset was obtained from \n",
    "dset = 'forum_sample.csv'\n",
    "\n",
    "forum = pd.read_csv(dset)\n",
    "\n",
    "\n",
    "forum['userPolitics'] = forum['userPolitics'].replace(\n",
    "    \"<bound method SelectorList.extract of \\[<Selector xpath='div\\[3\\]\\/div\\[2\\]\\/a\\[2\\]\\/text\\(\\)' data='\",\n",
    "    '', regex=True)\n",
    "forum['userPolitics'] = forum['userPolitics'].str.extract(r\"data=' (\\w+)\\\\n\")\n",
    "\n",
    "#sLeftRight\n",
    "forum['sLeftRight'] = ''\n",
    "forum.loc[forum['userPolitics'].isin(['Conservative',\n",
    "            'Republican','Libertarian','Capitalist']), 'sLeftRight'] = 'Conservative'\n",
    "forum.loc[forum['userPolitics'].isin(['Liberal','Progressive','Socialist',\n",
    "            'Democratic','Anarchist','Green']), 'sLeftRight'] = 'Liberal' \n",
    "\n",
    "\n",
    "forum['postText'] = forum['postText'].str.strip()\n",
    "forum['postText'] = forum['postText'].replace('\\n','', regex=True)\n",
    "forum['postText'] = forum['postText'].replace('^,','', regex=True)\n",
    "forum['postText'] = forum['postText'].str.strip()\n",
    "forum['postText'] = forum['postText'].replace('^,','', regex=True)\n",
    "forum['postText'] = forum['postText'].replace('^\\s+','', regex=True)\n",
    "\n",
    "\n",
    "forum\n",
    "\n"
   ]
  },
  {
   "cell_type": "code",
   "execution_count": null,
   "metadata": {},
   "outputs": [],
   "source": [
    "print (forum['postText'][999])"
   ]
  },
  {
   "cell_type": "code",
   "execution_count": null,
   "metadata": {},
   "outputs": [],
   "source": [
    "model['ok']"
   ]
  }
 ],
 "metadata": {
  "kernelspec": {
   "display_name": "Python 3",
   "language": "python",
   "name": "python3"
  },
  "language_info": {
   "codemirror_mode": {
    "name": "ipython",
    "version": 3
   },
   "file_extension": ".py",
   "mimetype": "text/x-python",
   "name": "python",
   "nbconvert_exporter": "python",
   "pygments_lexer": "ipython3",
   "version": "3.7.3"
  }
 },
 "nbformat": 4,
 "nbformat_minor": 2
}
