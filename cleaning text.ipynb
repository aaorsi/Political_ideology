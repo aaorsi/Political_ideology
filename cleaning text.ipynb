{
 "cells": [
  {
   "cell_type": "markdown",
   "metadata": {},
   "source": [
    "### Cleaning text data and process it for tokenisation, etc."
   ]
  },
  {
   "cell_type": "code",
   "execution_count": 1,
   "metadata": {},
   "outputs": [],
   "source": [
    "\n",
    "from bs4 import BeautifulSoup\n",
    "import re\n",
    "\n",
    "# This function receives as input a dictionary of data text and it cleans it to be ready for analysis\n",
    "def clean_dataset(raw_text, tags = None):\n",
    "   \n",
    "    # The following are taken from a code snippet in StackOverflow here:\n",
    "    # https://stackoverflow.com/questions/26002076/python-nltk-clean-html-not-implemented\n",
    "    cleaned = re.sub(r\"(?is)<(script|style).*?>.*?(</\\1>)\", \"\", raw_text.strip())\n",
    "    # Then we remove html comments. This has to be done before removing regular\n",
    "    # tags since comments can contain '>' characters.\n",
    "    cleaned = re.sub(r\"(?s)<!--(.*?)-->[\\n]?\", \"\", cleaned)\n",
    "    # Next we can remove the remaining tags:\n",
    "    cleaned = re.sub(r\"(?s)<.*?>\", \" \", cleaned)\n",
    "    # Finally, we deal with whitespace\n",
    "    cleaned = re.sub(r\"&nbsp;\", \" \", cleaned)\n",
    "    cleaned = re.sub(r\"  \", \" \", cleaned)\n",
    "    cleaned = re.sub(r\"  \", \" \", cleaned)\n",
    "    \n",
    "    if tags == 'Salon':\n",
    "        cleaned = re.sub(r\" Advertisement\\:\", \" \", cleaned)\n",
    "        cleaned = re.sub(r\"\\[\", \" \", cleaned)\n",
    "        cleaned = re.sub(r\"\\]\", \" \", cleaned)\n",
    "        \n",
    "    if tags == 'Townhall':\n",
    "        idd = cleaned.find(',') \n",
    "        cleaned = cleaned[idd+2:] # Stripping info. on the photography author   \n",
    "        id2 = cleaned.find(', WATCH') # Removing links to other news\n",
    "        cleaned = cleaned[:id2]\n",
    "    return cleaned\n",
    "\n",
    "    \n",
    "\n"
   ]
  },
  {
   "cell_type": "code",
   "execution_count": 2,
   "metadata": {},
   "outputs": [
    {
     "name": "stdout",
     "output_type": "stream",
     "text": [
      "\n",
      "\n"
     ]
    }
   ],
   "source": [
    "import pandas as pd\n",
    "\n",
    "data_csv  = 'salon_data.csv'\n",
    "\n",
    "df = pd.read_csv(data_csv)\n",
    "\n",
    "salon_dict = {'url':[], 'text':[]} # dictionaries with cleaned text\n",
    "townhall_dict = {'url':[], 'text':[]}\n",
    "\n",
    "nsalon = len(df['url'])\n",
    "df_dict = df.to_dict()\n",
    "\n",
    "for i in range(nsalon):\n",
    "    salon_dict['url'].append(df_dict['url'][i])\n",
    "    salon_dict['text'].append(clean_dataset(df_dict['text'][i], tags = 'Salon'))\n",
    "    \n",
    "    \n",
    "    \n",
    "print () \n",
    "print ()\n",
    "\n",
    "data_csv = 'townhall_data.csv'\n",
    "df = pd.read_csv(data_csv)\n",
    "df_dict = df.to_dict()\n",
    "ntownhall = len(df['url'])\n",
    "for i in range(ntownhall):\n",
    "    townhall_dict['url'].append(df_dict['url'][i])\n",
    "    townhall_dict['text'].append(clean_dataset(df_dict['text'][i], tags = 'Townhall'))\n",
    "    \n",
    "\n",
    "\n",
    "\n",
    "\n"
   ]
  },
  {
   "cell_type": "code",
   "execution_count": 3,
   "metadata": {},
   "outputs": [],
   "source": [
    "#saving data\n",
    "townhall_df = pd.DataFrame.from_dict(townhall_dict)\n",
    "townhall_file = 'townhall_clean.csv'\n",
    "townhall_df.to_csv(townhall_file)\n",
    "\n",
    "salon_df = pd.DataFrame.from_dict(salon_dict)\n",
    "salon_file = 'salon_clean.csv'\n",
    "salon_df.to_csv(salon_file)"
   ]
  }
 ],
 "metadata": {
  "kernelspec": {
   "display_name": "Python 3",
   "language": "python",
   "name": "python3"
  },
  "language_info": {
   "codemirror_mode": {
    "name": "ipython",
    "version": 3
   },
   "file_extension": ".py",
   "mimetype": "text/x-python",
   "name": "python",
   "nbconvert_exporter": "python",
   "pygments_lexer": "ipython3",
   "version": "3.7.3"
  }
 },
 "nbformat": 4,
 "nbformat_minor": 2
}
